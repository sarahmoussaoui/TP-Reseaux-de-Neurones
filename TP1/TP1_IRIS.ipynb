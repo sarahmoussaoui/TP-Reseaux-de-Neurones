{
 "cells": [
  {
   "cell_type": "markdown",
   "metadata": {
    "id": "23HhZ0TZl0zP"
   },
   "source": [
    "# TP 1 Mesures de performance\n",
    "Dans ce TP, nous aimerions avoir un premier aperçu sur les algorithmes d'apprentissage automatique. Plus précisément, nous aimerions évaluer leurs performances en utilisant les métriques suivantes:\n",
    "- Matrice de conusion\n",
    "- Rappel\n",
    "- Précision\n",
    "- Taux de FP\n",
    "- Spécificité\n",
    "- Courbe ROC\n",
    "\n",
    "Les mesures devront être calculées sur la tâche de classification de nombres manuscrits.\n",
    "\n",
    "Le travail consiste à implementer ces métriques et à les comparer avec les métriques des librairies disponibles.\n",
    "\n",
    "Les algorithmes : K plus Proches Voisins devront être implementés."
   ]
  },
  {
   "cell_type": "markdown",
   "metadata": {
    "id": "RnUKQQfjl0ze"
   },
   "source": [
    "# Importation des librairies necessaires au travail"
   ]
  },
  {
   "cell_type": "code",
   "execution_count": 1,
   "metadata": {
    "executionInfo": {
     "elapsed": 1671,
     "status": "ok",
     "timestamp": 1646692651996,
     "user": {
      "displayName": "Mounir Dekali",
      "photoUrl": "https://lh3.googleusercontent.com/a-/AOh14Gg8ysiB3LFZobpTpBaxvF4VcyOV4pcw95wF6Mdyhw=s64",
      "userId": "18151484264085085052"
     },
     "user_tz": -60
    },
    "id": "YDZVV6GVl0zg"
   },
   "outputs": [],
   "source": [
    "import numpy as np\n",
    "import csv\n",
    "import pandas as pd\n",
    "import matplotlib.pyplot as plt\n",
    "from numpy import random\n",
    "from sklearn.neural_network import MLPClassifier\n",
    "from sklearn.model_selection import train_test_split\n",
    "from sklearn import svm\n",
    "from sklearn.tree import DecisionTreeClassifier\n",
    "from sklearn.neighbors import KNeighborsClassifier\n",
    "from sklearn.metrics import classification_report, confusion_matrix\n",
    "from sklearn.preprocessing import StandardScaler\n",
    "from sklearn.metrics import accuracy_score, precision_score, recall_score, f1_score\n"
   ]
  },
  {
   "cell_type": "code",
   "execution_count": 2,
   "metadata": {
    "executionInfo": {
     "elapsed": 2710,
     "status": "ok",
     "timestamp": 1646692656130,
     "user": {
      "displayName": "Mounir Dekali",
      "photoUrl": "https://lh3.googleusercontent.com/a-/AOh14Gg8ysiB3LFZobpTpBaxvF4VcyOV4pcw95wF6Mdyhw=s64",
      "userId": "18151484264085085052"
     },
     "user_tz": -60
    },
    "id": "Uqyb8vZ3l0zk"
   },
   "outputs": [],
   "source": [
    "# Pour RNC\n",
    "from sklearn.model_selection import KFold\n",
    "from sklearn.cluster import KMeans\n",
    "from tensorflow.keras.datasets import mnist\n",
    "from tensorflow.keras.utils import to_categorical\n",
    "from tensorflow.keras.models import Sequential\n",
    "from tensorflow.keras.layers import Conv2D\n",
    "from tensorflow.keras.layers import MaxPooling2D\n",
    "from tensorflow.keras.layers import Dense\n",
    "from tensorflow.keras.layers import Flatten\n",
    "from tensorflow.keras.layers import Input\n",
    "from tensorflow.keras.layers import Dropout\n",
    "from tensorflow.keras.optimizers import SGD"
   ]
  },
  {
   "cell_type": "markdown",
   "metadata": {
    "id": "_nT_H3aPl0zm"
   },
   "source": [
    "# Lecture du fichier iris  classifier\n"
   ]
  },
  {
   "cell_type": "code",
   "execution_count": 3,
   "metadata": {},
   "outputs": [
    {
     "name": "stdout",
     "output_type": "stream",
     "text": [
      ".. _iris_dataset:\n",
      "\n",
      "Iris plants dataset\n",
      "--------------------\n",
      "\n",
      "**Data Set Characteristics:**\n",
      "\n",
      "    :Number of Instances: 150 (50 in each of three classes)\n",
      "    :Number of Attributes: 4 numeric, predictive attributes and the class\n",
      "    :Attribute Information:\n",
      "        - sepal length in cm\n",
      "        - sepal width in cm\n",
      "        - petal length in cm\n",
      "        - petal width in cm\n",
      "        - class:\n",
      "                - Iris-Setosa\n",
      "                - Iris-Versicolour\n",
      "                - Iris-Virginica\n",
      "                \n",
      "    :Summary Statistics:\n",
      "\n",
      "    ============== ==== ==== ======= ===== ====================\n",
      "                    Min  Max   Mean    SD   Class Correlation\n",
      "    ============== ==== ==== ======= ===== ====================\n",
      "    sepal length:   4.3  7.9   5.84   0.83    0.7826\n",
      "    sepal width:    2.0  4.4   3.05   0.43   -0.4194\n",
      "    petal length:   1.0  6.9   3.76   1.76    0.9490  (high!)\n",
      "    petal width:    0.1  2.5   1.20   0.76    0.9565  (high!)\n",
      "    ============== ==== ==== ======= ===== ====================\n",
      "\n",
      "    :Missing Attribute Values: None\n",
      "    :Class Distribution: 33.3% for each of 3 classes.\n",
      "    :Creator: R.A. Fisher\n",
      "    :Donor: Michael Marshall (MARSHALL%PLU@io.arc.nasa.gov)\n",
      "    :Date: July, 1988\n",
      "\n",
      "The famous Iris database, first used by Sir R.A. Fisher. The dataset is taken\n",
      "from Fisher's paper. Note that it's the same as in R, but not as in the UCI\n",
      "Machine Learning Repository, which has two wrong data points.\n",
      "\n",
      "This is perhaps the best known database to be found in the\n",
      "pattern recognition literature.  Fisher's paper is a classic in the field and\n",
      "is referenced frequently to this day.  (See Duda & Hart, for example.)  The\n",
      "data set contains 3 classes of 50 instances each, where each class refers to a\n",
      "type of iris plant.  One class is linearly separable from the other 2; the\n",
      "latter are NOT linearly separable from each other.\n",
      "\n",
      ".. topic:: References\n",
      "\n",
      "   - Fisher, R.A. \"The use of multiple measurements in taxonomic problems\"\n",
      "     Annual Eugenics, 7, Part II, 179-188 (1936); also in \"Contributions to\n",
      "     Mathematical Statistics\" (John Wiley, NY, 1950).\n",
      "   - Duda, R.O., & Hart, P.E. (1973) Pattern Classification and Scene Analysis.\n",
      "     (Q327.D83) John Wiley & Sons.  ISBN 0-471-22361-1.  See page 218.\n",
      "   - Dasarathy, B.V. (1980) \"Nosing Around the Neighborhood: A New System\n",
      "     Structure and Classification Rule for Recognition in Partially Exposed\n",
      "     Environments\".  IEEE Transactions on Pattern Analysis and Machine\n",
      "     Intelligence, Vol. PAMI-2, No. 1, 67-71.\n",
      "   - Gates, G.W. (1972) \"The Reduced Nearest Neighbor Rule\".  IEEE Transactions\n",
      "     on Information Theory, May 1972, 431-433.\n",
      "   - See also: 1988 MLC Proceedings, 54-64.  Cheeseman et al\"s AUTOCLASS II\n",
      "     conceptual clustering system finds 3 classes in the data.\n",
      "   - Many, many more ...\n"
     ]
    }
   ],
   "source": [
    "from sklearn import datasets\n",
    "\n",
    "# Load the Iris dataset\n",
    "iris = datasets.load_iris()\n",
    "X_iris = iris.data  # Features (sepal & petal measurements)\n",
    "y_iris = iris.target  # Labels (0 = setosa, 1 = versicolor, 2 = virginica)\n",
    "\n",
    "print(iris.DESCR)\n",
    "num_lables = 3"
   ]
  },
  {
   "cell_type": "markdown",
   "metadata": {
    "id": "s80Yb_gul0zx"
   },
   "source": [
    "# Implémentation des métriques demandées\n",
    "Ici il faut écrire les fonctions, puis les appeler dans la suite du code"
   ]
  },
  {
   "cell_type": "markdown",
   "metadata": {},
   "source": [
    "- Matrice de confusion :"
   ]
  },
  {
   "cell_type": "markdown",
   "metadata": {},
   "source": [
    "##### Global Matrix for all classes\n",
    "10 X 10 matrix where : \\\n",
    "row : true class \\\n",
    "column : predicted class \\\n",
    "diagonal elements represent the correct predictions \\\n",
    "off diagnoal elements represent misclassifications"
   ]
  },
  {
   "cell_type": "code",
   "execution_count": 4,
   "metadata": {},
   "outputs": [],
   "source": [
    "def compute_confusion_matrix(y_true, y_pred, num_classes):\n",
    "    \"\"\"\n",
    "    Compute the confusion matrix from scratch.\n",
    "\n",
    "    Args:\n",
    "        y_true (array): True labels \n",
    "        y_pred (array): Predicted labels\n",
    "        num_classes (int): Number of classes.\n",
    "\n",
    "    Returns:\n",
    "        confusion_matrix (array): Confusion matrix of shape [num_classes, num_classes].\n",
    "        the 10th row of the matrix represents the class 10 (digit 0)\n",
    "    \"\"\"\n",
    "    # Initialize the confusion matrix with zeros\n",
    "    cm = np.zeros((num_classes, num_classes), dtype=int)\n",
    "    \n",
    "    # Iterate through the true and predicted labels\n",
    "    for true_label, pred_label in zip(y_true, y_pred):\n",
    "        # Adjust labels to be 0-based (0-based indexing)\n",
    "        true_label_idx = true_label - 1  # Convert 1-10 to 0-9\n",
    "        pred_label_idx = pred_label - 1  # Convert 1-10 to 0-9\n",
    "        \n",
    "        # Increment the corresponding cell in the confusion matrix\n",
    "        cm[true_label_idx, pred_label_idx] += 1\n",
    "    \n",
    "    return cm      "
   ]
  },
  {
   "cell_type": "markdown",
   "metadata": {},
   "source": [
    "##### Matrix for each class\n",
    "we will generate 10 different matrices of 2X2 \\\n",
    "True Positive (TP)  False Negative (FN) \\\n",
    "False Positive (FP) True Negative (TN) \n",
    "\n"
   ]
  },
  {
   "cell_type": "code",
   "execution_count": 5,
   "metadata": {},
   "outputs": [],
   "source": [
    "def confusion_matrix_per_class(y_true, y_pred, num_classes):\n",
    "    \"\"\"\n",
    "    Compute the confusion matrix for each class (one-vs-all).\n",
    "\n",
    "    Args:\n",
    "        y_true (array): True labels \n",
    "        y_pred (array): Predicted labels \n",
    "        num_classes (int): Number of classes.\n",
    "\n",
    "    Returns:\n",
    "        class_cm (dict): A dictionary where keys are class labels and values are 2x2 confusion matrices.\n",
    "    \"\"\"\n",
    "    class_cm = {}\n",
    "    \n",
    "    for class_label in range(1, num_classes + 1): # num_classes +1 = 11 : because in range should go from 1 to 10\n",
    "        # Create binary labels for the current class : 1 for current class , 0 for other classes\n",
    "        y_true_binary = (y_true == class_label).astype(int)  # as type converts boolean value true or false to 1 or 0\n",
    "        y_pred_binary = (y_pred == class_label).astype(int)\n",
    "        \n",
    "        # Compute the 2x2 confusion matrix for the current class\n",
    "        tp = np.sum((y_true_binary == 1) & (y_pred_binary == 1))  # True Positives\n",
    "        tn = np.sum((y_true_binary == 0) & (y_pred_binary == 0))  # True Negatives\n",
    "        fp = np.sum((y_true_binary == 0) & (y_pred_binary == 1))  # False Positives\n",
    "        fn = np.sum((y_true_binary == 1) & (y_pred_binary == 0))  # False Negatives\n",
    "        \n",
    "        # Store the confusion matrix for the current class\n",
    "        class_cm[class_label] = np.array([[tn, fp], [fn, tp]])\n",
    "     \n",
    "    return class_cm"
   ]
  },
  {
   "cell_type": "markdown",
   "metadata": {},
   "source": [
    "- Accuracy = (TP + TN)/(TP + TN + FP + FN)"
   ]
  },
  {
   "cell_type": "markdown",
   "metadata": {},
   "source": [
    "##### Overall accuracy"
   ]
  },
  {
   "cell_type": "code",
   "execution_count": 6,
   "metadata": {},
   "outputs": [],
   "source": [
    "def overall_accuracy(y_true,y_pred):\n",
    "  correct_predictions = 0 # initialise counter for correct predictions TP+TN\n",
    "  for i in range(len(y_true)):\n",
    "    if(y_true[i]== y_pred[i]):\n",
    "      correct_predictions +=1\n",
    "  \n",
    "  overall_accuracy = correct_predictions / len(y_true) # len(y_true) = TP + TN + FP + FN\n",
    "\n",
    "  return(overall_accuracy)"
   ]
  },
  {
   "cell_type": "markdown",
   "metadata": {},
   "source": [
    "##### accuracy for each class"
   ]
  },
  {
   "cell_type": "code",
   "execution_count": 7,
   "metadata": {},
   "outputs": [],
   "source": [
    "def accuracy_per_class(y_true, y_pred, num_classes):\n",
    "    \"\"\"\n",
    "    Compute accuracy for each class.\n",
    "\n",
    "    Args:\n",
    "        y_true (array): True labels \n",
    "        y_pred (array): Predicted labels \n",
    "        num_classes (int): Number of classes.\n",
    "\n",
    "    Returns:\n",
    "        class_accuracy (dict): A dictionary where keys are class labels and values are accuracies.\n",
    "    \"\"\"\n",
    "    class_accuracy = {}\n",
    "    \n",
    "    for class_label in range(1, num_classes + 1):  # Classes are labeled from 1 to num_classes\n",
    "        # Indices of samples that belong to the current class\n",
    "        class_indices = (y_true == class_label) # boolean values 0 or 1 for rows of y_true corresponding to the class\n",
    "        \n",
    "        # Number of samples for the current class\n",
    "        total_samples = np.sum(class_indices) # sum of boolean values is going to be number of rows of the class\n",
    "        \n",
    "        if total_samples == 0:\n",
    "            # If there are no samples for this class, set accuracy to 0 or handle it as needed\n",
    "            class_accuracy[class_label] = 0. # float\n",
    "            continue\n",
    "        \n",
    "        # Number of correct predictions for the current class\n",
    "        correct_predictions = np.sum((y_true == class_label) & (y_pred == class_label))\n",
    "        \n",
    "        # Accuracy for the current class\n",
    "        accuracy = correct_predictions / total_samples\n",
    "        class_accuracy[class_label] = accuracy\n",
    "    \n",
    "    return class_accuracy"
   ]
  },
  {
   "cell_type": "markdown",
   "metadata": {
    "id": "-mRS4onu-52j"
   },
   "source": [
    "- Recall (True Positive Rate) = TP/(TP + FN)"
   ]
  },
  {
   "cell_type": "markdown",
   "metadata": {},
   "source": [
    "##### Recall for each class"
   ]
  },
  {
   "cell_type": "code",
   "execution_count": 8,
   "metadata": {
    "colab": {
     "background_save": true
    },
    "id": "ReRWcXEYgeQe"
   },
   "outputs": [],
   "source": [
    "def recall_per_class(y_true, y_pred, num_classes):\n",
    "    \"\"\"\n",
    "    Compute recall for each class.\n",
    "\n",
    "    Args:\n",
    "        y_true (array): True labels \n",
    "        y_pred (array): Predicted labels \n",
    "        num_classes (int): Number of classes.\n",
    "\n",
    "    Returns:\n",
    "        class_recall (dict): A dictionary where keys are class labels and values are recall values.\n",
    "    \"\"\"\n",
    "    class_recall = {}\n",
    "    \n",
    "    for class_label in range(1, num_classes + 1):  # Classes are labeled from 1 to num_classes\n",
    "        # True Positives (TP): Correctly predicted as the current class\n",
    "        tp = np.sum((y_true == class_label) & (y_pred == class_label))\n",
    "        \n",
    "        # False Negatives (FN): Belong to the current class but predicted as another class\n",
    "        fn = np.sum((y_true == class_label) & (y_pred != class_label))\n",
    "        \n",
    "        # Avoid division by zero\n",
    "        if (tp + fn) == 0:\n",
    "            recall = 0.0  # If there are no samples for this class, set recall to 0\n",
    "        else:\n",
    "            # Compute recall\n",
    "            recall = tp / (tp + fn)\n",
    "        \n",
    "        # Store the recall for the current class\n",
    "        class_recall[class_label] = recall\n",
    "    \n",
    "    return class_recall"
   ]
  },
  {
   "cell_type": "markdown",
   "metadata": {},
   "source": [
    "##### Overall Recall "
   ]
  },
  {
   "cell_type": "code",
   "execution_count": 9,
   "metadata": {},
   "outputs": [],
   "source": [
    "def overall_recall(y_true, y_pred, average='macro'):\n",
    "    \"\"\"\n",
    "    Compute overall recall.\n",
    "\n",
    "    Args:\n",
    "        y_true (array): True labels \n",
    "        y_pred (array): Predicted labels \n",
    "        average (string): Define the avraging methode (macro or weighted) \n",
    "\n",
    "    Returns:\n",
    "        overall_recall (float): Overall recall.\n",
    "        \n",
    "    \"\"\"\n",
    "    # Ensure y_true, y_pred are nb arrays \n",
    "    y_true = np.asarray(y_true)\n",
    "    y_pred = np.asarray(y_pred)\n",
    "\n",
    "    unique_classes = np.union1d(y_true, y_pred)\n",
    "    total_recall = 0\n",
    "    total_weight = 0\n",
    "    recalls = []       # Stores count of recall for each class  \n",
    "    class_counts = []  # Stores count of occurrences for each class  \n",
    "    # Compute recall for each class  \n",
    "    for class_label in unique_classes:\n",
    "        tp = np.sum((y_true == class_label) & (y_pred == class_label)) # true positive\n",
    "        fn = np.sum((y_true == class_label) & (y_pred != class_label)) # false negarive\n",
    "\n",
    "        if tp + fn == 0:\n",
    "            recall = 0\n",
    "        else:\n",
    "            recall = tp / (tp + fn)\n",
    "\n",
    "        recalls.append(recall)\n",
    "        class_counts.append(np.sum(y_true == class_label))\n",
    "    # Compute macro-average recall  \n",
    "    if average == 'macro':\n",
    "        total_recall = 0\n",
    "        for recall in recalls:\n",
    "            total_recall += recall\n",
    "        return total_recall / len(unique_classes)\n",
    "    # Compute weighted-average recall  \n",
    "    if average == 'weighted':\n",
    "        weighted_recall = 0\n",
    "        total_weight = 0\n",
    "        for i in range(len(recalls)):\n",
    "            weighted_recall += recalls[i] * class_counts[i]  # Weight recall by class count  \n",
    "            total_weight += class_counts[i]    # Sum total instances \n",
    "\n",
    "        if total_weight == 0:\n",
    "            return 0\n",
    "        return weighted_recall / total_weight\n",
    "\n",
    "    raise ValueError(\"Invalid average type. Choose 'macro' or 'weighted'.\")\n",
    "\n"
   ]
  },
  {
   "cell_type": "markdown",
   "metadata": {
    "id": "iy1P5tes-jM8"
   },
   "source": [
    "- Précision = TP/(TP + FP)"
   ]
  },
  {
   "cell_type": "markdown",
   "metadata": {
    "colab": {
     "background_save": true
    },
    "id": "bnHz28P0Z36s"
   },
   "source": [
    "##### Precision for each class\n"
   ]
  },
  {
   "cell_type": "code",
   "execution_count": 10,
   "metadata": {},
   "outputs": [],
   "source": [
    "def precision_per_class(y_true, y_pred, num_classes):\n",
    "    \n",
    "    class_precision = {}\n",
    "        \n",
    "    for class_label in range(1, num_classes + 1):  # Classes are labeled from 1 to num_classes\n",
    "         # True Positives (TP): Correctly predicted as the current class\n",
    "        TP = np.sum((y_true == class_label) & (y_pred == class_label))\n",
    "         # False Positives (FP): Predicted as this class but actually not this class\n",
    "        FP = np.sum((y_pred == class_label) & (y_true != class_label))\n",
    "        \n",
    "        # Avoid division by zero\n",
    "        if (TP + FP) == 0:\n",
    "            precision = 0.0  # If there are no samples for this class, set precison to 0\n",
    "        else:\n",
    "            # Compute precision\n",
    "            precision = TP / (TP + FP)\n",
    "         \n",
    "        # Store the precision for the current class\n",
    "        class_precision[class_label] = precision\n",
    "    \n",
    "    return class_precision\n",
    "    "
   ]
  },
  {
   "cell_type": "markdown",
   "metadata": {},
   "source": [
    "##### Overall Precision"
   ]
  },
  {
   "cell_type": "code",
   "execution_count": 11,
   "metadata": {},
   "outputs": [],
   "source": [
    "def overall_precision(y_true, y_pred, average='macro'):\n",
    "    \"\"\"\n",
    "    Compute overall precision.\n",
    "\n",
    "    Args:\n",
    "        y_true (array): True labels \n",
    "        y_pred (array): Predicted labels \n",
    "        average (string): Define the avraging equation (macro or weighted)\n",
    "\n",
    "    Returns:\n",
    "        overall_precision (float): Overall precision.\n",
    "        \n",
    "    \"\"\"\n",
    "   # Ensure y_true, y_pred are numpy arrays  \n",
    "    y_true = np.asarray(y_true)  \n",
    "    y_pred = np.asarray(y_pred)  \n",
    "\n",
    "# Get unique class labels from both true and predicted values  \n",
    "    unique_classes = np.union1d(y_true, y_pred)  \n",
    "    total_precision = 0  \n",
    "    total_weight = 0  \n",
    "    precisions = []  # Contains precision of each class  \n",
    "    class_counts = []  # Stores count of occurrences for each class  \n",
    "\n",
    "# Compute precision for each class  \n",
    "    for class_label in unique_classes:  \n",
    "        tp = np.sum((y_true == class_label) & (y_pred == class_label))  # True positives  \n",
    "        fp = np.sum((y_pred == class_label) & (y_true != class_label))  # False positives  \n",
    "\n",
    "        if tp + fp == 0:  \n",
    "            precision = 0  # Avoid division by zero  \n",
    "        else:  \n",
    "            precision = tp / (tp + fp)  \n",
    "\n",
    "        precisions.append(precision)  \n",
    "        class_counts.append(np.sum(y_true == class_label))  # Count occurrences of class in y_true  \n",
    "\n",
    "    # Compute macro-average precision  \n",
    "    if average == 'macro':  \n",
    "        total_precision = sum(precisions)  # Sum all class precisions  \n",
    "        return total_precision / len(unique_classes)  # Divide by the number of classes  \n",
    "\n",
    "    # Compute weighted-average precision  \n",
    "    if average == 'weighted':  \n",
    "        weighted_precision = 0  \n",
    "\n",
    "        for i in range(len(precisions)):  \n",
    "            weighted_precision += precisions[i] * class_counts[i]  # Weight precision by class count  \n",
    "            total_weight += class_counts[i]  # Sum total instances  \n",
    "\n",
    "        if total_weight == 0:  \n",
    "            return 0  # Avoid division by zero  \n",
    "        return weighted_precision / total_weight  \n",
    "\n",
    "    # Raise an error for invalid average type  \n",
    "    raise ValueError(\"Invalid average type. Choose 'macro' or 'weighted'.\")  \n",
    "\n",
    "\n"
   ]
  },
  {
   "cell_type": "markdown",
   "metadata": {
    "id": "2SUXNHkz-qd5"
   },
   "source": [
    "- Taux de FP (False Positive Rate) = FP / (FP + TN)"
   ]
  },
  {
   "cell_type": "markdown",
   "metadata": {
    "colab": {
     "background_save": true
    },
    "id": "r_o0qyv2l0z3"
   },
   "source": [
    "##### False Positive Rate for each class"
   ]
  },
  {
   "cell_type": "code",
   "execution_count": 12,
   "metadata": {},
   "outputs": [],
   "source": [
    "def FP_rate_per_class(y_true, y_pred, num_classes):\n",
    "    \n",
    "    class_FP_rate = {}\n",
    "        \n",
    "    for class_label in range(1, num_classes + 1):  # Classes are labeled from 1 to num_classes\n",
    "          # False Positives (FP): Predicted as this class but actually not this class\n",
    "        FP = np.sum((y_pred == class_label) & (y_true != class_label))\n",
    "         # True Negatives (TN)\n",
    "        TN = np.sum((y_true != class_label) & (y_pred != class_label))\n",
    "        \n",
    "        # Avoid division by zero\n",
    "        if (TN + FP) == 0:\n",
    "            FP_rate = 0.0  # If there are no samples for this class, set FP_rate to 0\n",
    "        else:\n",
    "            # Compute FP_rate\n",
    "            FP_rate = FP / (FP + TN)\n",
    "         \n",
    "        # Store the FP_rate for the current class\n",
    "        class_FP_rate[class_label] = FP_rate\n",
    "    \n",
    "    return class_FP_rate\n",
    "    "
   ]
  },
  {
   "cell_type": "markdown",
   "metadata": {},
   "source": [
    "##### Overall False Positive Rate"
   ]
  },
  {
   "cell_type": "code",
   "execution_count": 13,
   "metadata": {},
   "outputs": [],
   "source": [
    "\n",
    "\n",
    "def overall_FP_rate(y_true, y_pred):\n",
    "    \n",
    "    # Initialize variables to store total TN and FP\n",
    "    total_TN = 0\n",
    "    total_FP = 0\n",
    "    # Ensure y_true, y_pred are nb arrays \n",
    "    y_true = np.asarray(y_true)\n",
    "    y_pred = np.asarray(y_pred)\n",
    "    # find the number of classes\n",
    "    unique_classes = np.union1d(y_true, y_pred)\n",
    "\n",
    "    # Iterate through each class\n",
    "    for class_label in unique_classes:  # Classes from 0 to num_classes-1\n",
    "        # False Positives (FP): Predicted as this class but actually not this class\n",
    "        FP = np.sum((y_pred == class_label) & (y_true != class_label))\n",
    "        total_FP += FP\n",
    "        \n",
    "        # True Negatives (TN): Neither of this class, nor predicted as this class\n",
    "        TN = np.sum((y_true != class_label) & (y_pred != class_label))\n",
    "        total_TN += TN\n",
    "    \n",
    "    # Compute the overall false positive rate (FPR)\n",
    "    if (total_FP + total_TN) == 0:\n",
    "        overall_FP_rate = 0.0  # Avoid division by zero\n",
    "    else:\n",
    "        overall_FP_rate = total_FP / (total_FP + total_TN)\n",
    "    \n",
    "    return overall_FP_rate\n"
   ]
  },
  {
   "cell_type": "markdown",
   "metadata": {
    "id": "7gx9qcAK-wnc"
   },
   "source": [
    "- Spécificité (True Negative Rate) = TN / (TN + FP)"
   ]
  },
  {
   "cell_type": "markdown",
   "metadata": {
    "colab": {
     "background_save": true
    },
    "id": "DEXYGvurl0z5"
   },
   "source": [
    "##### Specificity for each class"
   ]
  },
  {
   "cell_type": "code",
   "execution_count": 14,
   "metadata": {},
   "outputs": [],
   "source": [
    "def Specificity_per_class(y_true, y_pred, num_classes):\n",
    "    \n",
    "    class_Specificity = {}\n",
    "        \n",
    "    for class_label in range(1, num_classes + 1):  # Classes are labeled from 1 to num_classes\n",
    "          # False Positives (FP): Predicted as this class but actually not this class\n",
    "        FP = np.sum((y_pred == class_label) & (y_true != class_label))\n",
    "         # True Negatives (TN)\n",
    "        TN = np.sum((y_true != class_label) & (y_pred != class_label))\n",
    "        \n",
    "        # Avoid division by zero\n",
    "        if (TN + FP) == 0:\n",
    "            Specificity = 0.0  # If there are no samples for this class, set Specificity to 0\n",
    "        else:\n",
    "            # Compute Specificity\n",
    "            Specificity = TN / (FP + TN)\n",
    "         \n",
    "        # Store the Specificity for the current class\n",
    "        class_Specificity[class_label] = Specificity\n",
    "    \n",
    "    return   class_Specificity\n",
    "    "
   ]
  },
  {
   "cell_type": "markdown",
   "metadata": {},
   "source": [
    "##### Overall Specificity "
   ]
  },
  {
   "cell_type": "code",
   "execution_count": 15,
   "metadata": {},
   "outputs": [],
   "source": [
    "def overall_Specificity(y_true, y_pred):\n",
    "    \n",
    "    # Initialize variables to store total TN and FP\n",
    "    total_TN = 0\n",
    "    total_FP = 0\n",
    "    \n",
    "    # Iterate through each class\n",
    "    # Extract unique classes from both y_true and y_pred\n",
    "    unique_classes = np.union1d(y_true, y_pred)  # Ensures all seen classes are considered\n",
    "\n",
    "\n",
    "    for class_label in unique_classes:  # Classes from 0 to num_classes-1\n",
    "        # False Positives (FP): Predicted as this class but actually not this class\n",
    "        FP = np.sum((y_pred == class_label) & (y_true != class_label))\n",
    "        total_FP += FP\n",
    "        \n",
    "        # True Negatives (TN): Neither of this class, nor predicted as this class\n",
    "        TN = np.sum((y_true != class_label) & (y_pred != class_label))\n",
    "        total_TN += TN\n",
    "    \n",
    "    # Compute the overall Specificity\n",
    "    if (total_FP + total_TN) == 0:\n",
    "        overall_Specificity = 0.0  # Avoid division by zero\n",
    "    else:\n",
    "        overall_Specificity = total_TN / (total_FP + total_TN)\n",
    "    \n",
    "    return overall_Specificity"
   ]
  },
  {
   "cell_type": "markdown",
   "metadata": {
    "id": "ENA_XiFMl0z5"
   },
   "source": [
    "- Courbe ROC"
   ]
  },
  {
   "cell_type": "code",
   "execution_count": 16,
   "metadata": {},
   "outputs": [],
   "source": [
    "\n",
    "\n",
    "def calculate_auc(fpr, tpr):\n",
    "    \"\"\"Calcule l'AUC en utilisant la méthode des trapèzes.\"\"\"\n",
    "    auc = 0.0\n",
    "    for i in range(1, len(fpr)):\n",
    "        auc += (fpr[i] - fpr[i-1]) * (tpr[i] + tpr[i-1]) / 2\n",
    "    return auc\n",
    "\n",
    "def roc_curve(y_test, predicted_probabilities, positive_label):\n",
    "    \"\"\"\n",
    "    Calcule la courbe ROC et l'aire sous la courbe (AUC).\n",
    "\n",
    "    Arguments :\n",
    "    - y_test : Labels réels.\n",
    "    - predicted_probabilities : Probabilités prédites pour la classe cible.\n",
    "    - positive_label : La classe considérée comme positive.\n",
    "\n",
    "    Retourne :\n",
    "    - fpr_list : Liste des Taux de Faux Positifs.\n",
    "    - tpr_list : Liste des Taux de Vrais Positifs.\n",
    "    - auc_value : Aire sous la courbe ROC.\n",
    "    \"\"\"\n",
    "    y_test = np.array(y_test)\n",
    "    \n",
    "    # Extraction des probabilités de la classe cible\n",
    "    if predicted_probabilities.ndim > 1:\n",
    "        predicted_probabilities = predicted_probabilities[:, positive_label]\n",
    "\n",
    "    # Trier les probabilités de manière décroissante\n",
    "    sorted_indices = np.argsort(-predicted_probabilities)  # Trie en ordre décroissant\n",
    "    thresholds = predicted_probabilities[sorted_indices]\n",
    "\n",
    "    tpr_list = [0]  # On commence à (0,0)\n",
    "    fpr_list = [0]\n",
    "\n",
    "    for threshold in thresholds:\n",
    "        predicted_labels = (predicted_probabilities >= threshold).astype(int)\n",
    "        \n",
    "        tp = np.sum((y_test == positive_label) & (predicted_labels == 1))  \n",
    "        fn = np.sum((y_test == positive_label) & (predicted_labels == 0))  \n",
    "        fp = np.sum((y_test != positive_label) & (predicted_labels == 1))  \n",
    "        tn = np.sum((y_test != positive_label) & (predicted_labels == 0))  \n",
    "        \n",
    "        tpr = tp / (tp + fn) if (tp + fn) > 0 else 0\n",
    "        fpr = fp / (fp + tn) if (fp + tn) > 0 else 0\n",
    "        \n",
    "        tpr_list.append(tpr)\n",
    "        fpr_list.append(fpr)\n",
    "    \n",
    "    # Ajout du point (1,1) pour terminer la courbe\n",
    "    tpr_list.append(1)\n",
    "    fpr_list.append(1)\n",
    "\n",
    "    # Calcul de l'AUC avec la méthode des trapèzes\n",
    "    auc_value = calculate_auc(fpr_list, tpr_list)\n",
    "\n",
    "    return fpr_list, tpr_list, auc_value\n"
   ]
  },
  {
   "cell_type": "markdown",
   "metadata": {},
   "source": [
    "##### affichage de la courbe "
   ]
  },
  {
   "cell_type": "code",
   "execution_count": 17,
   "metadata": {},
   "outputs": [],
   "source": [
    "def plot_roc_curve(fpr, tpr, auc_value, positive_label):\n",
    "    \"\"\"\n",
    "    Affiche la courbe ROC avec Matplotlib.\n",
    "\n",
    "    Arguments :\n",
    "    - fpr (list) : Liste des taux de faux positifs.\n",
    "    - tpr (list) : Liste des taux de vrais positifs.\n",
    "    - auc_value (float) : Valeur de l'aire sous la courbe (AUC).\n",
    "    - positive_label (int) : La classe analysée.\n",
    "    \"\"\"\n",
    "    plt.figure(figsize=(8, 6))\n",
    "    plt.plot(fpr, tpr, marker='o', linestyle='-', color='b', label=f'Class {positive_label} (AUC = {auc_value:.2f})')\n",
    "    plt.plot([0, 1], [0, 1], 'k--', linewidth=1)  # Ligne diagonale de référence\n",
    "    plt.xlim([-0.05, 1.05])\n",
    "    plt.ylim([-0.05, 1.05])\n",
    "    plt.xlabel(\"False Positive Rate (FPR)\")\n",
    "    plt.ylabel(\"True Positive Rate (TPR)\")\n",
    "    plt.title(f\"ROC Curve for Class {positive_label}\")\n",
    "    plt.legend(loc=\"lower right\")\n",
    "    plt.grid(True, linestyle=\"--\", alpha=0.6)\n",
    "    plt.show()"
   ]
  },
  {
   "cell_type": "markdown",
   "metadata": {
    "id": "IHfn7fgbl0z6"
   },
   "source": [
    "# Classification"
   ]
  },
  {
   "cell_type": "markdown",
   "metadata": {
    "id": "PGKbOn3el0z7"
   },
   "source": [
    "Définir d'abord la base d'entrainement X_train, Y_train et la base de test X_traint, Y_traint"
   ]
  },
  {
   "cell_type": "code",
   "execution_count": 18,
   "metadata": {
    "executionInfo": {
     "elapsed": 250,
     "status": "ok",
     "timestamp": 1646667242179,
     "user": {
      "displayName": "Mounir Dekali",
      "photoUrl": "https://lh3.googleusercontent.com/a-/AOh14Gg8ysiB3LFZobpTpBaxvF4VcyOV4pcw95wF6Mdyhw=s64",
      "userId": "18151484264085085052"
     },
     "user_tz": -60
    },
    "id": "mH2tdgEPl0z7"
   },
   "outputs": [],
   "source": [
    "scaler_iris = StandardScaler()\n",
    "X_train, X_test, y_train, y_test  = train_test_split(\n",
    "    X_iris, y_iris, test_size=0.4, random_state=17, stratify=y_iris\n",
    ")\n",
    "scaler_iris.fit(X_train)  # Fit uniquement sur X_train\n",
    "X_train = scaler_iris.transform(X_train)\n",
    "X_test = scaler_iris.transform(X_test) "
   ]
  },
  {
   "cell_type": "markdown",
   "metadata": {
    "id": "ZEArHIKJl0z8"
   },
   "source": [
    "# Méthode 0: K- Plus Proches Voisins"
   ]
  },
  {
   "cell_type": "markdown",
   "metadata": {
    "id": "Uh7xVfJUl0z9"
   },
   "source": [
    "Ici il faudra implémenter la méthode, puis la tester et vérifier les métriques en variant le nombre K"
   ]
  },
  {
   "cell_type": "markdown",
   "metadata": {},
   "source": [
    "### implementer la fonction qui calcule la distance Euclidienne"
   ]
  },
  {
   "cell_type": "code",
   "execution_count": 19,
   "metadata": {
    "id": "1lKZnt7zl0z9"
   },
   "outputs": [
    {
     "name": "stdout",
     "output_type": "stream",
     "text": [
      "9.486832980505138\n"
     ]
    }
   ],
   "source": [
    "def euclidean_distance(point1 : np.ndarray , point2 : np.ndarray)-> float:\n",
    "    \"\"\"\n",
    "    Calculate the euclidien distance between two points (numpy arrays)\n",
    "    \"\"\"\n",
    "    if point1.shape != point2.shape :\n",
    "        raise ValueError(\"Both points must have same dimentions\")\n",
    "    \n",
    "    distance =  np.sqrt(np.sum((point1 - point2)**2))\n",
    "    return distance\n",
    "\n",
    "#test \n",
    "a = np.array([5 , 3 ]); \n",
    "b = np.array([2 , 12 ]); \n",
    "\n",
    "print(euclidean_distance(a , b))"
   ]
  },
  {
   "cell_type": "markdown",
   "metadata": {},
   "source": [
    "### Implementer l'algorithme KNN"
   ]
  },
  {
   "cell_type": "code",
   "execution_count": 20,
   "metadata": {},
   "outputs": [],
   "source": [
    "def KNN(new_point : np.array , data : np.array , lables :np.array, k:int):\n",
    "    \"\"\"\n",
    "    This function uses the K-Nearest Neighbors (KNN) algorithme to predict the lable of new_point\n",
    "        new_point : is the data we want to classify\n",
    "        data : a numpy array containes samples of lables data (only the features)\n",
    "        lables : the lables of data\n",
    "        k: The number of nearest neighbors to consider.\n",
    "    \"\"\"\n",
    "    distances = []\n",
    "    # 1. Calculate euclidienne distance with each point of the dataset \n",
    "\n",
    "    for i in range(data.shape[0]): # Iterate throught  dataset samples\n",
    "        distances.append(( euclidean_distance(data[i] , new_point),lables[i]))\n",
    "\n",
    "    # 2. Sort by distance\n",
    "    distances.sort(key=lambda pair: pair[0])\n",
    "\n",
    "    #3. Select the first k points\n",
    "    k_nearest = [distances[i][1] for i in range(0,k)]\n",
    "\n",
    "    #4. Return the most commun lebel as a prediction for \n",
    "    pred_lable= max(set(k_nearest), key=k_nearest.count)\n",
    "    return pred_lable\n",
    "        \n"
   ]
  },
  {
   "cell_type": "markdown",
   "metadata": {},
   "source": [
    "### Tester l'algorithme KNN sur le dataset IRIS  avec diffrents valeurs de K"
   ]
  },
  {
   "cell_type": "code",
   "execution_count": 21,
   "metadata": {},
   "outputs": [
    {
     "name": "stdout",
     "output_type": "stream",
     "text": [
      "Tests for k =  2\n",
      "\n",
      "Confusion Matrix (Tabular Format):\n",
      "    0   1   2\n",
      "0  18   2   0\n",
      "1   3  17   0\n",
      "2   0   0  20\n",
      "Test with our metrics\n",
      "Accuracy = 0.92, Precision = 0.92, Recall = 0.92, Specificity = 0.96 , FP_rate=0.04\n",
      "Test with sklearn metrics\n",
      "Accuracy = 0.92, Precision = 0.92, Recall = 0.92\n",
      "\n",
      "\n",
      "Tests for k =  3\n",
      "\n",
      "Confusion Matrix (Tabular Format):\n",
      "    0   1   2\n",
      "0  18   2   0\n",
      "1   2  18   0\n",
      "2   0   0  20\n",
      "Test with our metrics\n",
      "Accuracy = 0.93, Precision = 0.93, Recall = 0.93, Specificity = 0.97 , FP_rate=0.03\n",
      "Test with sklearn metrics\n",
      "Accuracy = 0.93, Precision = 0.93, Recall = 0.93\n",
      "\n",
      "\n",
      "Tests for k =  4\n",
      "\n",
      "Confusion Matrix (Tabular Format):\n",
      "    0   1   2\n",
      "0  19   1   0\n",
      "1   2  18   0\n",
      "2   0   0  20\n",
      "Test with our metrics\n",
      "Accuracy = 0.95, Precision = 0.95, Recall = 0.95, Specificity = 0.97 , FP_rate=0.03\n",
      "Test with sklearn metrics\n",
      "Accuracy = 0.95, Precision = 0.95, Recall = 0.95\n",
      "\n",
      "\n",
      "Tests for k =  5\n",
      "\n",
      "Confusion Matrix (Tabular Format):\n",
      "    0   1   2\n",
      "0  19   1   0\n",
      "1   2  18   0\n",
      "2   0   0  20\n",
      "Test with our metrics\n",
      "Accuracy = 0.95, Precision = 0.95, Recall = 0.95, Specificity = 0.97 , FP_rate=0.03\n",
      "Test with sklearn metrics\n",
      "Accuracy = 0.95, Precision = 0.95, Recall = 0.95\n",
      "\n",
      "\n",
      "Tests for k =  6\n",
      "\n",
      "Confusion Matrix (Tabular Format):\n",
      "    0   1   2\n",
      "0  19   1   0\n",
      "1   3  17   0\n",
      "2   0   0  20\n",
      "Test with our metrics\n",
      "Accuracy = 0.93, Precision = 0.94, Recall = 0.93, Specificity = 0.97 , FP_rate=0.03\n",
      "Test with sklearn metrics\n",
      "Accuracy = 0.93, Precision = 0.94, Recall = 0.93\n",
      "\n",
      "\n",
      "Tests for k =  7\n",
      "\n",
      "Confusion Matrix (Tabular Format):\n",
      "    0   1   2\n",
      "0  19   1   0\n",
      "1   2  18   0\n",
      "2   0   0  20\n",
      "Test with our metrics\n",
      "Accuracy = 0.95, Precision = 0.95, Recall = 0.95, Specificity = 0.97 , FP_rate=0.03\n",
      "Test with sklearn metrics\n",
      "Accuracy = 0.95, Precision = 0.95, Recall = 0.95\n",
      "\n",
      "\n",
      "Tests for k =  8\n",
      "\n",
      "Confusion Matrix (Tabular Format):\n",
      "    0   1   2\n",
      "0  19   1   0\n",
      "1   2  18   0\n",
      "2   0   0  20\n",
      "Test with our metrics\n",
      "Accuracy = 0.95, Precision = 0.95, Recall = 0.95, Specificity = 0.97 , FP_rate=0.03\n",
      "Test with sklearn metrics\n",
      "Accuracy = 0.95, Precision = 0.95, Recall = 0.95\n",
      "\n",
      "\n",
      "Tests for k =  9\n",
      "\n",
      "Confusion Matrix (Tabular Format):\n",
      "    0   1   2\n",
      "0  17   3   0\n",
      "1   1  19   0\n",
      "2   0   0  20\n",
      "Test with our metrics\n",
      "Accuracy = 0.93, Precision = 0.94, Recall = 0.93, Specificity = 0.97 , FP_rate=0.03\n",
      "Test with sklearn metrics\n",
      "Accuracy = 0.93, Precision = 0.94, Recall = 0.93\n",
      "\n",
      "\n",
      "Tests for k =  10\n",
      "\n",
      "Confusion Matrix (Tabular Format):\n",
      "    0   1   2\n",
      "0  19   1   0\n",
      "1   3  17   0\n",
      "2   0   0  20\n",
      "Test with our metrics\n",
      "Accuracy = 0.93, Precision = 0.94, Recall = 0.93, Specificity = 0.97 , FP_rate=0.03\n",
      "Test with sklearn metrics\n",
      "Accuracy = 0.93, Precision = 0.94, Recall = 0.93\n",
      "\n",
      "\n",
      "Tests for k =  11\n",
      "\n",
      "Confusion Matrix (Tabular Format):\n",
      "    0   1   2\n",
      "0  18   2   0\n",
      "1   2  18   0\n",
      "2   0   0  20\n",
      "Test with our metrics\n",
      "Accuracy = 0.93, Precision = 0.93, Recall = 0.93, Specificity = 0.97 , FP_rate=0.03\n",
      "Test with sklearn metrics\n",
      "Accuracy = 0.93, Precision = 0.93, Recall = 0.93\n",
      "\n",
      "\n",
      "Tests for k =  12\n",
      "\n",
      "Confusion Matrix (Tabular Format):\n",
      "    0   1   2\n",
      "0  19   1   0\n",
      "1   3  17   0\n",
      "2   0   0  20\n",
      "Test with our metrics\n",
      "Accuracy = 0.93, Precision = 0.94, Recall = 0.93, Specificity = 0.97 , FP_rate=0.03\n",
      "Test with sklearn metrics\n",
      "Accuracy = 0.93, Precision = 0.94, Recall = 0.93\n",
      "\n",
      "\n",
      "Tests for k =  13\n",
      "\n",
      "Confusion Matrix (Tabular Format):\n",
      "    0   1   2\n",
      "0  16   4   0\n",
      "1   2  18   0\n",
      "2   0   0  20\n",
      "Test with our metrics\n",
      "Accuracy = 0.90, Precision = 0.90, Recall = 0.90, Specificity = 0.95 , FP_rate=0.05\n",
      "Test with sklearn metrics\n",
      "Accuracy = 0.90, Precision = 0.90, Recall = 0.90\n",
      "\n",
      "\n",
      "Tests for k =  14\n",
      "\n",
      "Confusion Matrix (Tabular Format):\n",
      "    0   1   2\n",
      "0  17   3   0\n",
      "1   2  18   0\n",
      "2   0   0  20\n",
      "Test with our metrics\n",
      "Accuracy = 0.92, Precision = 0.92, Recall = 0.92, Specificity = 0.96 , FP_rate=0.04\n",
      "Test with sklearn metrics\n",
      "Accuracy = 0.92, Precision = 0.92, Recall = 0.92\n",
      "\n",
      "\n"
     ]
    }
   ],
   "source": [
    "\n",
    "\n",
    "# Applay KNN + Evaluation\n",
    "num_classes = 3\n",
    "\n",
    "# Evaluate KNN with diffrent K values   : \n",
    "for k in range(2,15):\n",
    "    print(\"Tests for k = \",k)\n",
    "    y_pred = [KNN(sample, X_train, y_train, k) for sample in X_test]\n",
    "    y_pred = np.array(y_pred)  # Convert list to NumPy array\n",
    "    # Compute the confusion matrix\n",
    "    cm = compute_confusion_matrix(y_true=y_test, y_pred=y_pred, num_classes=num_classes)\n",
    "    # Convert to DataFrame for better readability\n",
    "    cm_df = pd.DataFrame(cm, index=range(num_classes), columns=range(num_classes))\n",
    "    # Print formatted confusion matrix\n",
    "    print(\"\\nConfusion Matrix (Tabular Format):\")\n",
    "    print(cm_df.to_string())\n",
    "    # Evaluation \n",
    "    accuracy = overall_accuracy(y_test , y_pred ) \n",
    "    precision = overall_precision(y_test, y_pred , average=\"macro\") \n",
    "    recall = overall_recall(y_test, y_pred , average='weighted')\n",
    "    Specificity = overall_Specificity(y_test, y_pred )\n",
    "    FP_rate = overall_FP_rate(y_test, y_pred )\n",
    "    print(\"Test with our metrics\")\n",
    "    print(f\"Accuracy = {accuracy:.2f}, Precision = {precision:.2f}, Recall = {recall:.2f}, Specificity = {Specificity:.2f} , FP_rate={FP_rate:.2f}\")\n",
    "    # Evaluation \n",
    "    accuracy = accuracy_score(y_test , y_pred) \n",
    "    precision = precision_score(y_test, y_pred, average='macro') \n",
    "    recall = recall_score(y_test, y_pred, average='weighted')\n",
    "    print(\"Test with sklearn metrics\")\n",
    "    print(f\"Accuracy = {accuracy:.2f}, Precision = {precision:.2f}, Recall = {recall:.2f}\\n\\n\")\n"
   ]
  },
  {
   "cell_type": "markdown",
   "metadata": {
    "id": "v9wv0lPTl0z-",
    "scrolled": false
   },
   "source": [
    "# Méthode 1: MVS\n",
    "Machine à Vecteurs de Support"
   ]
  },
  {
   "cell_type": "code",
   "execution_count": 22,
   "metadata": {
    "colab": {
     "background_save": true
    },
    "id": "I87X5WBKl0z_"
   },
   "outputs": [],
   "source": [
    "from sklearn.svm import SVC\n",
    "\n",
    "svm_model = SVC(kernel=\"linear\",probability=True)  # Activer probability=True\n",
    "\n",
    "# Entraîner le modèle\n",
    "svm_model.fit(X_train, y_train)\n",
    "# Prédire les classes sur l'ensemble de test\n",
    "y_pred = svm_model.predict(X_test)\n",
    "# Prédire les probabilités\n",
    "y_pred_proba = svm_model.predict_proba(X_test)  # Probabilités pour chaque classe"
   ]
  },
  {
   "cell_type": "markdown",
   "metadata": {},
   "source": [
    "##### Calling all metrics"
   ]
  },
  {
   "cell_type": "code",
   "execution_count": 23,
   "metadata": {},
   "outputs": [
    {
     "name": "stdout",
     "output_type": "stream",
     "text": [
      "Accuracy = 0.97, Precision = 0.97, Recall = 0.97, FP_rate = 0.02\n",
      "[[19  1  0]\n",
      " [ 1 19  0]\n",
      " [ 0  0 20]]\n"
     ]
    }
   ],
   "source": [
    "accuracy = overall_accuracy(y_test , y_pred) \n",
    "precision = overall_precision(y_test, y_pred) \n",
    "recall = overall_recall(y_test, y_pred)\n",
    "FP_rate = overall_FP_rate(y_test, y_pred)\n",
    "print(f\"Accuracy = {accuracy:.2f}, Precision = {precision:.2f}, Recall = {recall:.2f}, FP_rate = {FP_rate:.2f}\")\n",
    "print(compute_confusion_matrix(y_test,y_pred,3))\n",
    "\n"
   ]
  },
  {
   "cell_type": "code",
   "execution_count": 24,
   "metadata": {},
   "outputs": [
    {
     "name": "stdout",
     "output_type": "stream",
     "text": [
      "[0.91494835 0.96842624 0.9695628  0.95744933 0.00704037 0.9867638\n",
      " 0.02685902 0.03281273 0.03220305 0.01518162 0.97294279 0.985264\n",
      " 0.97000695 0.01006816 0.02143984 0.01040338 0.0082189  0.01095714\n",
      " 0.02026796 0.01442084 0.05601678 0.00912575 0.01837807 0.93908445\n",
      " 0.00287021 0.01225021 0.12328799 0.01995859 0.03163975 0.960613\n",
      " 0.01409378 0.95907816 0.94440277 0.02313405 0.94722867 0.01135301\n",
      " 0.95739805 0.046451   0.02193952 0.01242371 0.01445864 0.0097574\n",
      " 0.97311687 0.03050264 0.02050081 0.93505742 0.96139386 0.02120165\n",
      " 0.01587434 0.02105628 0.0165664  0.98040604 0.0136748  0.96213595\n",
      " 0.01459702 0.03089064 0.00816048 0.01160358 0.95933147 0.0268521 ]\n"
     ]
    }
   ],
   "source": [
    "# Choisir une classe spécifique pour la ROC (ex: classe 0)\n",
    "positive_label = 0\n",
    "y_pred_proba_class = y_pred_proba[:, positive_label]  # Probabilité d'être dans la classe 0\n",
    "print(y_pred_proba_class)"
   ]
  },
  {
   "cell_type": "code",
   "execution_count": 25,
   "metadata": {},
   "outputs": [
    {
     "data": {
      "image/png": "[encoded data removed]",
      "text/plain": [
       "<Figure size 800x600 with 1 Axes>"
      ]
     },
     "metadata": {},
     "output_type": "display_data"
    }
   ],
   "source": [
    "# Calculer FPR et TPR pour la ROC\n",
    "fpr, tpr,auc_value = roc_curve(y_test, y_pred_proba_class, positive_label)\n",
    "\n",
    "# Tracer la courbe ROC\n",
    "plot_roc_curve(fpr, tpr,auc_value, positive_label)"
   ]
  },
  {
   "cell_type": "markdown",
   "metadata": {
    "id": "kF8Vvak9l00A"
   },
   "source": [
    "# Méthode 2: Arbres de décision\n"
   ]
  },
  {
   "cell_type": "code",
   "execution_count": 26,
   "metadata": {
    "colab": {
     "background_save": true
    },
    "id": "SOGXAVhGl00B"
   },
   "outputs": [],
   "source": [
    "# Initialiser et entraîner le modèle\n",
    "clf = DecisionTreeClassifier()\n",
    "clf.fit(X_train, y_train)\n",
    "\n",
    "# Prédire sur le test set\n",
    "y_pred = clf.predict(X_test)\n",
    "#  Prédire les probabilités des classes\n",
    "y_pred_proba = clf.predict_proba(X_test)"
   ]
  },
  {
   "cell_type": "code",
   "execution_count": 27,
   "metadata": {},
   "outputs": [],
   "source": [
    "positive_label = 0\n",
    "\n",
    "#Extraire les probabilités de la classe positive\n",
    "y_pred_proba_class = y_pred_proba[:, positive_label]"
   ]
  },
  {
   "cell_type": "code",
   "execution_count": null,
   "metadata": {},
   "outputs": [],
   "source": []
  },
  {
   "cell_type": "markdown",
   "metadata": {},
   "source": [
    "#### Metrics"
   ]
  },
  {
   "cell_type": "code",
   "execution_count": 28,
   "metadata": {},
   "outputs": [
    {
     "name": "stdout",
     "output_type": "stream",
     "text": [
      "Accuracy = 0.90, Precision = 0.90, Recall = 0.90, FP_rate = 0.05\n",
      "[[16  4  0]\n",
      " [ 2 18  0]\n",
      " [ 0  0 20]]\n"
     ]
    }
   ],
   "source": [
    "accuracy = overall_accuracy(y_test , y_pred) \n",
    "precision = overall_precision(y_test, y_pred) \n",
    "recall = overall_recall(y_test, y_pred)\n",
    "FP_rate = overall_FP_rate(y_test, y_pred)\n",
    "print(f\"Accuracy = {accuracy:.2f}, Precision = {precision:.2f}, Recall = {recall:.2f}, FP_rate = {FP_rate:.2f}\")\n",
    "print(compute_confusion_matrix(y_test,y_pred,3))\n",
    "\n"
   ]
  },
  {
   "cell_type": "code",
   "execution_count": 29,
   "metadata": {},
   "outputs": [
    {
     "data": {
      "image/png": "[encoded data removed]",
      "text/plain": [
       "<Figure size 800x600 with 1 Axes>"
      ]
     },
     "metadata": {},
     "output_type": "display_data"
    }
   ],
   "source": [
    "# Calculer FPR et TPR pour la ROC\n",
    "fpr, tpr,auc_value = roc_curve(y_test, y_pred_proba_class, positive_label)\n",
    "\n",
    "# Tracer la courbe ROC\n",
    "plot_roc_curve(fpr, tpr,auc_value, positive_label)"
   ]
  },
  {
   "cell_type": "markdown",
   "metadata": {
    "id": "4rZNPN91l00C"
   },
   "source": [
    "# Méthode 3: RN \n",
    "Réseaux de neurones Perceptron"
   ]
  },
  {
   "cell_type": "code",
   "execution_count": 30,
   "metadata": {},
   "outputs": [
    {
     "name": "stdout",
     "output_type": "stream",
     "text": [
      "Accuracy = 0.97, Precision = 0.97, Recall = 0.97, FP_rate = 0.01\n",
      "[[33  1  0]\n",
      " [ 2 36  0]\n",
      " [ 0  0 33]]\n"
     ]
    }
   ],
   "source": [
    "\n",
    "X_train, X_test, Y_train, Y_test = train_test_split(X_iris, y_iris, test_size=0.7, random_state=0)\n",
    "\n",
    "# Entraîner le modèle MLP\n",
    "model = MLPClassifier(solver='sgd', alpha=1e-5, hidden_layer_sizes=(25), max_iter=100000)\n",
    "model.fit(X_train, Y_train)\n",
    "\n",
    "\n",
    "y_pred = model.predict(X_test)\n",
    "\n",
    "\n",
    "# Calculer les métriques\n",
    "accuracy = overall_accuracy(Y_test, y_pred) \n",
    "precision = overall_precision(Y_test, y_pred) \n",
    "recall = overall_recall(Y_test, y_pred)\n",
    "FP_rate = overall_FP_rate(Y_test, y_pred)\n",
    "\n",
    "# Afficher les résultats\n",
    "print(f\"Accuracy = {accuracy:.2f}, Precision = {precision:.2f}, Recall = {recall:.2f}, FP_rate = {FP_rate:.2f}\")\n",
    "\n",
    "# Afficher la matrice de confusion\n",
    "print(compute_confusion_matrix(Y_test, y_pred, 3))  # Utiliser Y_test et pas Y_train"
   ]
  },
  {
   "cell_type": "code",
   "execution_count": 31,
   "metadata": {},
   "outputs": [],
   "source": [
    "# Prédire les probabilités des classes\n",
    "y_pred_proba = model.predict_proba(X_test)  \n",
    "# Choisir une classe comme positive \n",
    "positive_label = 0  \n",
    "#  Extraire les probabilités de la classe positive\n",
    "y_pred_proba_class = y_pred_proba[:, positive_label]"
   ]
  },
  {
   "cell_type": "code",
   "execution_count": 32,
   "metadata": {},
   "outputs": [
    {
     "data": {
      "image/png": "[encoded data removed]",
      "text/plain": [
       "<Figure size 800x600 with 1 Axes>"
      ]
     },
     "metadata": {},
     "output_type": "display_data"
    }
   ],
   "source": [
    "# Calculer FPR et TPR pour la ROC\n",
    "fpr, tpr, auc_value = roc_curve(Y_test, y_pred_proba_class, positive_label)\n",
    "\n",
    "# Tracer la courbe ROC\n",
    "plot_roc_curve(fpr, tpr,auc_value, positive_label)"
   ]
  },
  {
   "cell_type": "markdown",
   "metadata": {
    "id": "lXTjUzQal00J"
   },
   "source": [
    "# Méthode 4: RNC\n",
    "Réseaux de Neurones Convolutifs"
   ]
  },
  {
   "cell_type": "markdown",
   "metadata": {
    "id": "_txSaLVpl00L"
   },
   "source": [
    "# Appliquer les métriques implementées pour voir le résultat"
   ]
  },
  {
   "cell_type": "code",
   "execution_count": null,
   "metadata": {
    "colab": {
     "background_save": true
    },
    "id": "nkZxFuQKl00M"
   },
   "outputs": [],
   "source": []
  }
 ],
 "metadata": {
  "colab": {
   "collapsed_sections": [],
   "name": "TP 1 Mesures de performance.ipynb",
   "provenance": []
  },
  "kernelspec": {
   "display_name": "base",
   "language": "python",
   "name": "python3"
  },
  "language_info": {
   "codemirror_mode": {
    "name": "ipython",
    "version": 3
   },
   "file_extension": ".py",
   "mimetype": "text/x-python",
   "name": "python",
   "nbconvert_exporter": "python",
   "pygments_lexer": "ipython3",
   "version": "3.10.9"
  }
 },
 "nbformat": 4,
 "nbformat_minor": 1
}
